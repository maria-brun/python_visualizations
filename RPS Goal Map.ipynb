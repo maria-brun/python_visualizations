{
 "cells": [
  {
   "cell_type": "markdown",
   "metadata": {},
   "source": [
    "# Choropleth Map Tutorial"
   ]
  },
  {
   "cell_type": "markdown",
   "metadata": {},
   "source": [
    "Set up: Set your working directory to point to where you've saved the RPS dataset (download from the (b)Log!). You'll then need to import the right packages. This tutorial relies on Plotly, which I've set up in offline mode in this code"
   ]
  },
  {
   "cell_type": "code",
   "execution_count": 19,
   "metadata": {},
   "outputs": [],
   "source": [
    "#Get the working directory\n",
    "\n",
    "import os\n",
    "os.getcwd()\n",
    "\n",
    "#Change the working directory and confirm it changed to where you want it to be!\n",
    "\n",
    "os.chdir('')\n",
    "os.getcwd()"
   ]
  },
  {
   "cell_type": "code",
   "execution_count": 11,
   "metadata": {},
   "outputs": [
    {
     "data": {
      "text/html": [
       "<script>requirejs.config({paths: { 'plotly': ['https://cdn.plot.ly/plotly-latest.min']},});if(!window.Plotly) {{require(['plotly'],function(plotly) {window.Plotly=plotly;});}}</script>"
      ],
      "text/vnd.plotly.v1+html": [
       "<script>requirejs.config({paths: { 'plotly': ['https://cdn.plot.ly/plotly-latest.min']},});if(!window.Plotly) {{require(['plotly'],function(plotly) {window.Plotly=plotly;});}}</script>"
      ]
     },
     "metadata": {},
     "output_type": "display_data"
    }
   ],
   "source": [
    "#Import packages, including, pandas and use pd.read_csv to import data\n",
    "#Note: loading plotly in offline mode. Online mode will send plots straght to an online repository, which you need to be cognizant of if you're using private data!\n",
    "\n",
    "import pandas as pd\n",
    "import numpy as np\n",
    "import seaborn as sns\n",
    "import matplotlib.mlab as mlab\n",
    "import matplotlib.pyplot as plt\n",
    "%matplotlib inline\n",
    "from plotly.offline import download_plotlyjs, init_notebook_mode, plot, iplot\n",
    "import plotly.offline as offline\n",
    "import plotly.graph_objs as go\n",
    "init_notebook_mode(connected=True)\n",
    "from plotly.graph_objs import *\n",
    "import cufflinks as cf"
   ]
  },
  {
   "cell_type": "markdown",
   "metadata": {},
   "source": [
    "Now that you've imported the right packages, import the data. A few notes on why this data works that may not be obvious:\n",
    "\n",
    "1) To properly map data to map, states need to be denoted by their official two letter abbreviation. <br>\n",
    "2) To display the information you want to see when a user hovers over a state, a text column is helpful. This column can use html, such as a line break indicator, to make the text more readable. You can see this utilized in the column called TEXT."
   ]
  },
  {
   "cell_type": "code",
   "execution_count": 12,
   "metadata": {},
   "outputs": [
    {
     "data": {
      "text/html": [
       "<div>\n",
       "<style scoped>\n",
       "    .dataframe tbody tr th:only-of-type {\n",
       "        vertical-align: middle;\n",
       "    }\n",
       "\n",
       "    .dataframe tbody tr th {\n",
       "        vertical-align: top;\n",
       "    }\n",
       "\n",
       "    .dataframe thead th {\n",
       "        text-align: right;\n",
       "    }\n",
       "</style>\n",
       "<table border=\"1\" class=\"dataframe\">\n",
       "  <thead>\n",
       "    <tr style=\"text-align: right;\">\n",
       "      <th></th>\n",
       "      <th>STATE</th>\n",
       "      <th>STATE_CODE</th>\n",
       "      <th>RECENT_UPDATE</th>\n",
       "      <th>FIRST_PASSED</th>\n",
       "      <th>FINAL_GOAL</th>\n",
       "      <th>FINAL_GOAL_PCNT</th>\n",
       "      <th>TEXT</th>\n",
       "      <th>PUC_SIZE</th>\n",
       "      <th>PUC_SIZE_ADJ</th>\n",
       "      <th>PUC_BUDGET</th>\n",
       "      <th>...</th>\n",
       "      <th>AVG_PRICE_RECENT</th>\n",
       "      <th>MARKUP</th>\n",
       "      <th>MARKET_TYPE</th>\n",
       "      <th>MARKET_SIZE</th>\n",
       "      <th>AVG_WHOLESALE_PRICE</th>\n",
       "      <th>PCNT_STEAM</th>\n",
       "      <th>PCNT_CT</th>\n",
       "      <th>RE_POTENTIAL</th>\n",
       "      <th>RE_POTENTIAL_POP</th>\n",
       "      <th>RE_POTENTIAL_AREA</th>\n",
       "    </tr>\n",
       "  </thead>\n",
       "  <tbody>\n",
       "    <tr>\n",
       "      <th>0</th>\n",
       "      <td>Alabama</td>\n",
       "      <td>AL</td>\n",
       "      <td>2008</td>\n",
       "      <td>2008</td>\n",
       "      <td>0.00</td>\n",
       "      <td>0%</td>\n",
       "      <td>Alabama&lt;br&gt;RPS Goal Adjusted: 0%&lt;br&gt;Ideology: ...</td>\n",
       "      <td>126.0</td>\n",
       "      <td>126.00</td>\n",
       "      <td>16175277</td>\n",
       "      <td>...</td>\n",
       "      <td>0.09</td>\n",
       "      <td>0.98</td>\n",
       "      <td>0</td>\n",
       "      <td>429684.00</td>\n",
       "      <td>87.33</td>\n",
       "      <td>63.82</td>\n",
       "      <td>28.13</td>\n",
       "      <td>4310770</td>\n",
       "      <td>0.90</td>\n",
       "      <td>82.23</td>\n",
       "    </tr>\n",
       "    <tr>\n",
       "      <th>1</th>\n",
       "      <td>Alaska</td>\n",
       "      <td>AK</td>\n",
       "      <td>2008</td>\n",
       "      <td>2008</td>\n",
       "      <td>0.00</td>\n",
       "      <td>0.00%</td>\n",
       "      <td>Alaska&lt;br&gt;RPS Goal Adjusted: 0%&lt;br&gt;Ideology: 3...</td>\n",
       "      <td>58.0</td>\n",
       "      <td>3.63</td>\n",
       "      <td>6576700</td>\n",
       "      <td>...</td>\n",
       "      <td>0.15</td>\n",
       "      <td>10.00</td>\n",
       "      <td>0</td>\n",
       "      <td>NaN</td>\n",
       "      <td>14.74</td>\n",
       "      <td>9.37</td>\n",
       "      <td>52.09</td>\n",
       "      <td>9696263</td>\n",
       "      <td>13.65</td>\n",
       "      <td>14.77</td>\n",
       "    </tr>\n",
       "    <tr>\n",
       "      <th>2</th>\n",
       "      <td>Arizona</td>\n",
       "      <td>AZ</td>\n",
       "      <td>2006</td>\n",
       "      <td>2000</td>\n",
       "      <td>0.00</td>\n",
       "      <td>0.00%</td>\n",
       "      <td>Arizona&lt;br&gt;RPS Goal Adjusted: 0%&lt;br&gt;Ideology: ...</td>\n",
       "      <td>312.8</td>\n",
       "      <td>20.85</td>\n",
       "      <td>24277900</td>\n",
       "      <td>...</td>\n",
       "      <td>0.08</td>\n",
       "      <td>1.56</td>\n",
       "      <td>0</td>\n",
       "      <td>883329.12</td>\n",
       "      <td>52.99</td>\n",
       "      <td>45.53</td>\n",
       "      <td>24.13</td>\n",
       "      <td>25832812</td>\n",
       "      <td>4.04</td>\n",
       "      <td>226.59</td>\n",
       "    </tr>\n",
       "    <tr>\n",
       "      <th>3</th>\n",
       "      <td>Arkansas</td>\n",
       "      <td>AR</td>\n",
       "      <td>2008</td>\n",
       "      <td>2008</td>\n",
       "      <td>0.00</td>\n",
       "      <td>0.00%</td>\n",
       "      <td>Arkansas&lt;br&gt;RPS Goal Adjusted: 0%&lt;br&gt;Ideology:...</td>\n",
       "      <td>114.0</td>\n",
       "      <td>4.75</td>\n",
       "      <td>12111731</td>\n",
       "      <td>...</td>\n",
       "      <td>0.08</td>\n",
       "      <td>0.93</td>\n",
       "      <td>0</td>\n",
       "      <td>777609.00</td>\n",
       "      <td>81.91</td>\n",
       "      <td>63.83</td>\n",
       "      <td>28.05</td>\n",
       "      <td>5696887</td>\n",
       "      <td>1.95</td>\n",
       "      <td>107.12</td>\n",
       "    </tr>\n",
       "    <tr>\n",
       "      <th>4</th>\n",
       "      <td>California</td>\n",
       "      <td>CA</td>\n",
       "      <td>2011</td>\n",
       "      <td>2002</td>\n",
       "      <td>0.34</td>\n",
       "      <td>34.00%</td>\n",
       "      <td>California&lt;br&gt;RPS Goal Adjusted: 34%&lt;br&gt;Ideolo...</td>\n",
       "      <td>1015.3</td>\n",
       "      <td>169.22</td>\n",
       "      <td>1428121</td>\n",
       "      <td>...</td>\n",
       "      <td>0.13</td>\n",
       "      <td>3.62</td>\n",
       "      <td>1</td>\n",
       "      <td>1028015.61</td>\n",
       "      <td>36.04</td>\n",
       "      <td>44.43</td>\n",
       "      <td>31.29</td>\n",
       "      <td>21984737</td>\n",
       "      <td>0.59</td>\n",
       "      <td>134.29</td>\n",
       "    </tr>\n",
       "  </tbody>\n",
       "</table>\n",
       "<p>5 rows × 28 columns</p>\n",
       "</div>"
      ],
      "text/plain": [
       "        STATE STATE_CODE  RECENT_UPDATE  FIRST_PASSED  FINAL_GOAL  \\\n",
       "0     Alabama         AL           2008          2008        0.00   \n",
       "1      Alaska         AK           2008          2008        0.00   \n",
       "2     Arizona         AZ           2006          2000        0.00   \n",
       "3    Arkansas         AR           2008          2008        0.00   \n",
       "4  California         CA           2011          2002        0.34   \n",
       "\n",
       "  FINAL_GOAL_PCNT                                               TEXT  \\\n",
       "0              0%  Alabama<br>RPS Goal Adjusted: 0%<br>Ideology: ...   \n",
       "1           0.00%  Alaska<br>RPS Goal Adjusted: 0%<br>Ideology: 3...   \n",
       "2           0.00%  Arizona<br>RPS Goal Adjusted: 0%<br>Ideology: ...   \n",
       "3           0.00%  Arkansas<br>RPS Goal Adjusted: 0%<br>Ideology:...   \n",
       "4          34.00%  California<br>RPS Goal Adjusted: 34%<br>Ideolo...   \n",
       "\n",
       "   PUC_SIZE  PUC_SIZE_ADJ  PUC_BUDGET        ...          AVG_PRICE_RECENT  \\\n",
       "0     126.0        126.00    16175277        ...                      0.09   \n",
       "1      58.0          3.63     6576700        ...                      0.15   \n",
       "2     312.8         20.85    24277900        ...                      0.08   \n",
       "3     114.0          4.75    12111731        ...                      0.08   \n",
       "4    1015.3        169.22     1428121        ...                      0.13   \n",
       "\n",
       "   MARKUP  MARKET_TYPE  MARKET_SIZE  AVG_WHOLESALE_PRICE  PCNT_STEAM  PCNT_CT  \\\n",
       "0    0.98            0    429684.00                87.33       63.82    28.13   \n",
       "1   10.00            0          NaN                14.74        9.37    52.09   \n",
       "2    1.56            0    883329.12                52.99       45.53    24.13   \n",
       "3    0.93            0    777609.00                81.91       63.83    28.05   \n",
       "4    3.62            1   1028015.61                36.04       44.43    31.29   \n",
       "\n",
       "   RE_POTENTIAL  RE_POTENTIAL_POP  RE_POTENTIAL_AREA  \n",
       "0       4310770              0.90              82.23  \n",
       "1       9696263             13.65              14.77  \n",
       "2      25832812              4.04             226.59  \n",
       "3       5696887              1.95             107.12  \n",
       "4      21984737              0.59             134.29  \n",
       "\n",
       "[5 rows x 28 columns]"
      ]
     },
     "execution_count": 12,
     "metadata": {},
     "output_type": "execute_result"
    }
   ],
   "source": [
    "#Import data set. \n",
    "\n",
    "RPS = pd.read_csv('RPS_Dataset.csv')\n",
    "RPS.head()"
   ]
  },
  {
   "cell_type": "markdown",
   "metadata": {},
   "source": [
    "The data are already in a format that's ready to make a map, so let's do it! <br> <br>\n",
    "We're first going to define the data as a dictionary that includes the type of graphic you're going to use, the colorscale, the locations (which in this case are the states), the map type, the data that determines the value of the location, text you want to pop up when hovering above a state, the color of the borders around the states, and the color bar legend. "
   ]
  },
  {
   "cell_type": "code",
   "execution_count": 13,
   "metadata": {},
   "outputs": [],
   "source": [
    "data = dict(type='choropleth', #This is the map object you want\n",
    "           colorscale = 'Bluered', #This indicates the color scale - there are many options to choose from\n",
    "           locations = RPS['STATE_CODE'], #This is the column in your data indicating the location\n",
    "           locationmode = 'USA-states', #This is the map type - we want the US by state\n",
    "           z = RPS['FINAL_GOAL'], #This tells the graphic which variable determines the color of the state\n",
    "           text = RPS['TEXT'], #Points to a column of text you want to display when hovering over a state\n",
    "           marker = dict(line = dict(color = 'rgb(255,255,255)', width=2)), #This creates a line of a given width to go around state borders\n",
    "           colorbar = {'title':'Final RPS Goal Adjusted'} #Legend title\n",
    "           )\n"
   ]
  },
  {
   "cell_type": "markdown",
   "metadata": {},
   "source": [
    "Now we're going to define the layout as a dictionary of geographic and display options"
   ]
  },
  {
   "cell_type": "code",
   "execution_count": 14,
   "metadata": {},
   "outputs": [],
   "source": [
    "#This sets the title and geographic options - here we set the total scope of the map to the USA, tell it to show major lakes, and determine the color of the lakes\n",
    "\n",
    "layout = dict(title = 'Adjusted RPS Goals by State',\n",
    "             geo = dict(scope='usa',showlakes = True, lakecolor='rgb(85,173,240)')) \n",
    "\n",
    "\n"
   ]
  },
  {
   "cell_type": "markdown",
   "metadata": {},
   "source": [
    "Using an object oriented approach to creating this graphic, now we can name a figure and define it with go.Figure function. <br> \n",
    "This function takes a data argument and a layout argument, both of which we've defined above as a dictionaries."
   ]
  },
  {
   "cell_type": "code",
   "execution_count": 15,
   "metadata": {},
   "outputs": [],
   "source": [
    "choromap_RPSGOAL = go.Figure(data = [data], layout=layout)"
   ]
  },
  {
   "cell_type": "markdown",
   "metadata": {},
   "source": [
    "Finally, call iplot, which is Plotly's interactive plot function, on the figure defined just above."
   ]
  },
  {
   "cell_type": "code",
   "execution_count": 16,
   "metadata": {},
   "outputs": [
    {
     "data": {
      "application/vnd.plotly.v1+json": {
       "data": [
        {
         "colorbar": {
          "title": "Final RPS Goal Adjusted"
         },
         "colorscale": "Bluered",
         "locationmode": "USA-states",
         "locations": [
          "AL",
          "AK",
          "AZ",
          "AR",
          "CA",
          "CO",
          "CT",
          "DE",
          "FL",
          "GA",
          "HI",
          "ID",
          "IL",
          "IN",
          "IA",
          "KS",
          "KY",
          "LA",
          "ME",
          "MD",
          "MA",
          "MI",
          "MN",
          "MS",
          "MO",
          "MT",
          "NE",
          "NV",
          "NH",
          "NJ",
          "NM",
          "NY",
          "NC",
          "ND",
          "OH",
          "OK",
          "OR",
          "PA",
          "RI",
          "SC",
          "SD",
          "TN",
          "TX",
          "UT",
          "VT",
          "VA",
          "WA",
          "WV",
          "WI",
          "WY"
         ],
         "marker": {
          "line": {
           "color": "rgb(255,255,255)",
           "width": 2
          }
         },
         "text": [
          "Alabama<br>RPS Goal Adjusted: 0%<br>Ideology: 45.62<br>Portion of Neighboring States: 0<br>Average Electric Price: 0.09<br>Percent Steam Turbines: 63.82<br>Renewable Energy Potential/Area: 82.23",
          "Alaska<br>RPS Goal Adjusted: 0%<br>Ideology: 39.03<br>Portion of Neighboring States: 0<br>Average Electric Price: 0.15<br>Percent Steam Turbines: 9.37<br>Renewable Energy Potential/Area: 14.77",
          "Arizona<br>RPS Goal Adjusted: 0%<br>Ideology: 11.95<br>Portion of Neighboring States: 0<br>Average Electric Price: 0.07<br>Percent Steam Turbines: 45.53<br>Renewable Energy Potential/Area: 226.59",
          "Arkansas<br>RPS Goal Adjusted: 0%<br>Ideology: 74.58<br>Portion of Neighboring States: 0.33<br>Average Electric Price: 0.08<br>Percent Steam Turbines: 63.83<br>Renewable Energy Potential/Area: 107.12",
          "California<br>RPS Goal Adjusted: 34%<br>Ideology: 89.25<br>Portion of Neighboring States: 0.67<br>Average Electric Price: 0.12<br>Percent Steam Turbines: 44.43<br>Renewable Energy Potential/Area: 134.29",
          "Colorado<br>RPS Goal Adjusted: 26%<br>Ideology: 16.71<br>Portion of Neighboring States: 0.29<br>Average Electric Price: 0.07<br>Percent Steam Turbines: 45.53<br>Renewable Energy Potential/Area: 209.61",
          "Connecticut<br>RPS Goal Adjusted: 12%<br>Ideology: 54.95<br>Portion of Neighboring States: 0.33<br>Average Electric Price: 0.1<br>Percent Steam Turbines: 55.95<br>Renewable Energy Potential/Area: 21.37",
          "Delaware<br>RPS Goal Adjusted: 18%<br>Ideology: 65.36<br>Portion of Neighboring States: 0.67<br>Average Electric Price: 0.08<br>Percent Steam Turbines: 64.27<br>Renewable Energy Potential/Area: 150.18",
          "Florida<br>RPS Goal Adjusted: 0%<br>Ideology: 15.95<br>Portion of Neighboring States: 0<br>Average Electric Price: 0.11<br>Percent Steam Turbines: 57.04<br>Renewable Energy Potential/Area: 86.64",
          "Georgia<br>RPS Goal Adjusted: 0%<br>Ideology: 7.43<br>Portion of Neighboring States: 0.2<br>Average Electric Price: 0.09<br>Percent Steam Turbines: 63.82<br>Renewable Energy Potential/Area: 103.63",
          "Hawaii<br>RPS Goal Adjusted: 37%<br>Ideology: 90.79<br>Portion of Neighboring States: 0<br>Average Electric Price: 0.14<br>Percent Steam Turbines: 60.05<br>Renewable Energy Potential/Area: 446.73",
          "Idaho<br>RPS Goal Adjusted: 0%<br>Ideology: 14.09<br>Portion of Neighboring States: 0.67<br>Average Electric Price: 0.06<br>Percent Steam Turbines: 44.92<br>Renewable Energy Potential/Area: 102.26",
          "Illinois<br>RPS Goal Adjusted: 22%<br>Ideology: 34.53<br>Portion of Neighboring States: 0.4<br>Average Electric Price: 0.07<br>Percent Steam Turbines: 63.56<br>Renewable Energy Potential/Area: 166.67",
          "Indiana<br>RPS Goal Adjusted: 3%<br>Ideology: 10.38<br>Portion of Neighboring States: 0.5<br>Average Electric Price: 0.08<br>Percent Steam Turbines: 64.31<br>Renewable Energy Potential/Area: 159.93",
          "Iowa<br>RPS Goal Adjusted: 0%<br>Ideology: <br>Portion of Neighboring States: 0<br>Average Electric Price: <br>Percent Steam Turbines: 64.58<br>Renewable Energy Potential/Area: 166.89",
          "Kansas<br>RPS Goal Adjusted: 17%<br>Ideology: 45.19<br>Portion of Neighboring States: 0.75<br>Average Electric Price: 0.08<br>Percent Steam Turbines: 62.64<br>Renewable Energy Potential/Area: 323.54",
          "Kentucky<br>RPS Goal Adjusted: 0%<br>Ideology: 65.17<br>Portion of Neighboring States: 0.43<br>Average Electric Price: 0.06<br>Percent Steam Turbines: 64.71<br>Renewable Energy Potential/Area: 58.4",
          "Louisiana<br>RPS Goal Adjusted: 0%<br>Ideology: 43.86<br>Portion of Neighboring States: 0.33<br>Average Electric Price: 0.09<br>Percent Steam Turbines: 63.84<br>Renewable Energy Potential/Area: 113.57",
          "Maine<br>RPS Goal Adjusted: 40%<br>Ideology: 72.26<br>Portion of Neighboring States: 0<br>Average Electric Price: 0.1<br>Percent Steam Turbines: 55.82<br>Renewable Energy Potential/Area: 60.82",
          "Maryland<br>RPS Goal Adjusted: 12%<br>Ideology: 51.33<br>Portion of Neighboring States: 0.2<br>Average Electric Price: 0.07<br>Percent Steam Turbines: 65.59<br>Renewable Energy Potential/Area: 74.52",
          "Massachusetts<br>RPS Goal Adjusted: 7%<br>Ideology: 71.95<br>Portion of Neighboring States: 0<br>Average Electric Price: 0.1<br>Percent Steam Turbines: 78.16<br>Renewable Energy Potential/Area: 95.61",
          "Michigan<br>RPS Goal Adjusted: 9%<br>Ideology: 70.04<br>Portion of Neighboring States: 0.5<br>Average Electric Price: 0.09<br>Percent Steam Turbines: 62.75<br>Renewable Energy Potential/Area: 78.97",
          "Minnesota<br>RPS Goal Adjusted: 22%<br>Ideology: 50.01<br>Portion of Neighboring States: 0.25<br>Average Electric Price: 0.07<br>Percent Steam Turbines: 64.58<br>Renewable Energy Potential/Area: 146.78",
          "Mississippi<br>RPS Goal Adjusted: 0%<br>Ideology: 44.21<br>Portion of Neighboring States: 0<br>Average Electric Price: 0.09<br>Percent Steam Turbines: 63.82<br>Renewable Energy Potential/Area: 120.58",
          "Missouri<br>RPS Goal Adjusted: 10%<br>Ideology: 20.16<br>Portion of Neighboring States: 0.25<br>Average Electric Price: 0.07<br>Percent Steam Turbines: 63.39<br>Renewable Energy Potential/Area: 99.39",
          "Montana<br>RPS Goal Adjusted: 10%<br>Ideology: 65.12<br>Portion of Neighboring States: 0<br>Average Electric Price: 0.07<br>Percent Steam Turbines: 45.62<br>Renewable Energy Potential/Area: 96.3",
          "Nebraska<br>RPS Goal Adjusted: 0%<br>Ideology: 21.84<br>Portion of Neighboring States: 0.5<br>Average Electric Price: 0.07<br>Percent Steam Turbines: 58.81<br>Renewable Energy Potential/Area: 233.87",
          "Nevada<br>RPS Goal Adjusted: 10%<br>Ideology: 27.1<br>Portion of Neighboring States: 0.2<br>Average Electric Price: 0.08<br>Percent Steam Turbines: 43.28<br>Renewable Energy Potential/Area: 165.26",
          "New Hampshire<br>RPS Goal Adjusted: 25%<br>Ideology: 78.82<br>Portion of Neighboring States: 0.67<br>Average Electric Price: 0.14<br>Percent Steam Turbines: 55.82<br>Renewable Energy Potential/Area: 20.43",
          "New Jersey<br>RPS Goal Adjusted: 21%<br>Ideology: 29.16<br>Portion of Neighboring States: 0<br>Average Electric Price: 0.1<br>Percent Steam Turbines: 64.27<br>Renewable Energy Potential/Area: 111.13",
          "New Mexico<br>RPS Goal Adjusted: 14%<br>Ideology: 82.36<br>Portion of Neighboring States: 0.4<br>Average Electric Price: 0.07<br>Percent Steam Turbines: 45.47<br>Renewable Energy Potential/Area: 294.64",
          "New York<br>RPS Goal Adjusted: 27%<br>Ideology: 44.13<br>Portion of Neighboring States: 0.6<br>Average Electric Price: 0.13<br>Percent Steam Turbines: 54.3<br>Renewable Energy Potential/Area: 48.42",
          "North Carolina<br>RPS Goal Adjusted: 12%<br>Ideology: 77.03<br>Portion of Neighboring States: 0<br>Average Electric Price: 0.08<br>Percent Steam Turbines: 63.79<br>Renewable Energy Potential/Area: 112.25",
          "North Dakota<br>RPS Goal Adjusted: 10%<br>Ideology: 33.06<br>Portion of Neighboring States: 0.67<br>Average Electric Price: 0.06<br>Percent Steam Turbines: 63.22<br>Renewable Energy Potential/Area: 178.83",
          "Ohio<br>RPS Goal Adjusted: 11%<br>Ideology: 57.56<br>Portion of Neighboring States: 0.2<br>Average Electric Price: 0.08<br>Percent Steam Turbines: 67.88<br>Renewable Energy Potential/Area: 101.61",
          "Oklahoma<br>RPS Goal Adjusted: 15%<br>Ideology: 42.26<br>Portion of Neighboring States: 0.83<br>Average Electric Price: 0.08<br>Percent Steam Turbines: 62.86<br>Renewable Energy Potential/Area: 240.07",
          "Oregon<br>RPS Goal Adjusted: 21%<br>Ideology: 81.14<br>Portion of Neighboring States: 0.75<br>Average Electric Price: 0.07<br>Percent Steam Turbines: 45.47<br>Renewable Energy Potential/Area: 87.24",
          "Pennsylvania<br>RPS Goal Adjusted: 4%<br>Ideology: 58.13<br>Portion of Neighboring States: 0.17<br>Average Electric Price: 0.08<br>Percent Steam Turbines: 66.72<br>Renewable Energy Potential/Area: 21.94",
          "Rhode Island<br>RPS Goal Adjusted: 12%<br>Ideology: 73.04<br>Portion of Neighboring States: 1<br>Average Electric Price: 0.11<br>Percent Steam Turbines: 56.23<br>Renewable Energy Potential/Area: 76.73",
          "South Carolina<br>RPS Goal Adjusted: 0%<br>Ideology: 10.22<br>Portion of Neighboring States: 0.5<br>Average Electric Price: 0.08<br>Percent Steam Turbines: 63.82<br>Renewable Energy Potential/Area: 116.23",
          "South Dakota<br>RPS Goal Adjusted: 0%<br>Ideology: 23.36<br>Portion of Neighboring States: 0.67<br>Average Electric Price: 0.07<br>Percent Steam Turbines: 59.45<br>Renewable Energy Potential/Area: 200.71",
          "Tennessee<br>RPS Goal Adjusted: 0%<br>Ideology: 64.35<br>Portion of Neighboring States: 0.38<br>Average Electric Price: 0.08<br>Percent Steam Turbines: 63.82<br>Renewable Energy Potential/Area: 64.99",
          "Texas<br>RPS Goal Adjusted: 2%<br>Ideology: 26.7<br>Portion of Neighboring States: 0<br>Average Electric Price: 0.06<br>Percent Steam Turbines: 89.23<br>Renewable Energy Potential/Area: 267.54",
          "Utah<br>RPS Goal Adjusted: 20%<br>Ideology: 16.05<br>Portion of Neighboring States: 0.67<br>Average Electric Price: 0.06<br>Percent Steam Turbines: 44.92<br>Renewable Energy Potential/Area: 132.84",
          "Vermont<br>RPS Goal Adjusted: 16%<br>Ideology: 73.51<br>Portion of Neighboring States: 1<br>Average Electric Price: 0.12<br>Percent Steam Turbines: 55.82<br>Renewable Energy Potential/Area: 10.74",
          "Virginia<br>RPS Goal Adjusted: 9%<br>Ideology: 52.27<br>Portion of Neighboring States: 0.2<br>Average Electric Price: 0.07<br>Percent Steam Turbines: 64.83<br>Renewable Energy Potential/Area: 60.85",
          "Washington<br>RPS Goal Adjusted: 13%<br>Ideology: 77.75<br>Portion of Neighboring States: 0<br>Average Electric Price: 0.06<br>Percent Steam Turbines: 45.53<br>Renewable Energy Potential/Area: 43.32",
          "West Virginia<br>RPS Goal Adjusted: 0%<br>Ideology: 82.62<br>Portion of Neighboring States: 0.8<br>Average Electric Price: 0.07<br>Percent Steam Turbines: 65.65<br>Renewable Energy Potential/Area: 13.76",
          "Wisconsin<br>RPS Goal Adjusted: 3%<br>Ideology: 23.07<br>Portion of Neighboring States: 0.5<br>Average Electric Price: 0.05<br>Percent Steam Turbines: 64.54<br>Renewable Energy Potential/Area: 96.9",
          "Wyoming<br>RPS Goal Adjusted: 0%<br>Ideology: 51.83<br>Portion of Neighboring States: 0.33<br>Average Electric Price: 0.06<br>Percent Steam Turbines: 44.92<br>Renewable Energy Potential/Area: 141.82"
         ],
         "type": "choropleth",
         "z": [
          0,
          0,
          0,
          0,
          0.34,
          0.26,
          0.12,
          0.18,
          0,
          0,
          0.37,
          0,
          0.22,
          0.03,
          0,
          0.17,
          0,
          0,
          0.4,
          0.12,
          0.07,
          0.09,
          0.22,
          0,
          0.1,
          0.1,
          0,
          0.1,
          0.25,
          0.21,
          0.14,
          0.27,
          0.12,
          0.1,
          0.11,
          0.15,
          0.21,
          0.04,
          0.12,
          0,
          0,
          0,
          0.02,
          0.2,
          0.16,
          0.09,
          0.13,
          0,
          0.03,
          0
         ]
        }
       ],
       "layout": {
        "geo": {
         "lakecolor": "rgb(85,173,240)",
         "scope": "usa",
         "showlakes": true
        },
        "title": "Adjusted RPS Goals by State"
       }
      },
      "text/html": [
       "<div id=\"3bd0d81a-a7cf-43b4-9ce0-34fab35d7d8d\" style=\"height: 525px; width: 100%;\" class=\"plotly-graph-div\"></div><script type=\"text/javascript\">require([\"plotly\"], function(Plotly) { window.PLOTLYENV=window.PLOTLYENV || {};window.PLOTLYENV.BASE_URL=\"https://plot.ly\";Plotly.newPlot(\"3bd0d81a-a7cf-43b4-9ce0-34fab35d7d8d\", [{\"type\": \"choropleth\", \"colorscale\": \"Bluered\", \"locations\": [\"AL\", \"AK\", \"AZ\", \"AR\", \"CA\", \"CO\", \"CT\", \"DE\", \"FL\", \"GA\", \"HI\", \"ID\", \"IL\", \"IN\", \"IA\", \"KS\", \"KY\", \"LA\", \"ME\", \"MD\", \"MA\", \"MI\", \"MN\", \"MS\", \"MO\", \"MT\", \"NE\", \"NV\", \"NH\", \"NJ\", \"NM\", \"NY\", \"NC\", \"ND\", \"OH\", \"OK\", \"OR\", \"PA\", \"RI\", \"SC\", \"SD\", \"TN\", \"TX\", \"UT\", \"VT\", \"VA\", \"WA\", \"WV\", \"WI\", \"WY\"], \"locationmode\": \"USA-states\", \"z\": [0.0, 0.0, 0.0, 0.0, 0.34, 0.26, 0.12, 0.18, 0.0, 0.0, 0.37, 0.0, 0.22, 0.03, 0.0, 0.17, 0.0, 0.0, 0.4, 0.12, 0.07, 0.09, 0.22, 0.0, 0.1, 0.1, 0.0, 0.1, 0.25, 0.21, 0.14, 0.27, 0.12, 0.1, 0.11, 0.15, 0.21, 0.04, 0.12, 0.0, 0.0, 0.0, 0.02, 0.2, 0.16, 0.09, 0.13, 0.0, 0.03, 0.0], \"text\": [\"Alabama<br>RPS Goal Adjusted: 0%<br>Ideology: 45.62<br>Portion of Neighboring States: 0<br>Average Electric Price: 0.09<br>Percent Steam Turbines: 63.82<br>Renewable Energy Potential/Area: 82.23\", \"Alaska<br>RPS Goal Adjusted: 0%<br>Ideology: 39.03<br>Portion of Neighboring States: 0<br>Average Electric Price: 0.15<br>Percent Steam Turbines: 9.37<br>Renewable Energy Potential/Area: 14.77\", \"Arizona<br>RPS Goal Adjusted: 0%<br>Ideology: 11.95<br>Portion of Neighboring States: 0<br>Average Electric Price: 0.07<br>Percent Steam Turbines: 45.53<br>Renewable Energy Potential/Area: 226.59\", \"Arkansas<br>RPS Goal Adjusted: 0%<br>Ideology: 74.58<br>Portion of Neighboring States: 0.33<br>Average Electric Price: 0.08<br>Percent Steam Turbines: 63.83<br>Renewable Energy Potential/Area: 107.12\", \"California<br>RPS Goal Adjusted: 34%<br>Ideology: 89.25<br>Portion of Neighboring States: 0.67<br>Average Electric Price: 0.12<br>Percent Steam Turbines: 44.43<br>Renewable Energy Potential/Area: 134.29\", \"Colorado<br>RPS Goal Adjusted: 26%<br>Ideology: 16.71<br>Portion of Neighboring States: 0.29<br>Average Electric Price: 0.07<br>Percent Steam Turbines: 45.53<br>Renewable Energy Potential/Area: 209.61\", \"Connecticut<br>RPS Goal Adjusted: 12%<br>Ideology: 54.95<br>Portion of Neighboring States: 0.33<br>Average Electric Price: 0.1<br>Percent Steam Turbines: 55.95<br>Renewable Energy Potential/Area: 21.37\", \"Delaware<br>RPS Goal Adjusted: 18%<br>Ideology: 65.36<br>Portion of Neighboring States: 0.67<br>Average Electric Price: 0.08<br>Percent Steam Turbines: 64.27<br>Renewable Energy Potential/Area: 150.18\", \"Florida<br>RPS Goal Adjusted: 0%<br>Ideology: 15.95<br>Portion of Neighboring States: 0<br>Average Electric Price: 0.11<br>Percent Steam Turbines: 57.04<br>Renewable Energy Potential/Area: 86.64\", \"Georgia<br>RPS Goal Adjusted: 0%<br>Ideology: 7.43<br>Portion of Neighboring States: 0.2<br>Average Electric Price: 0.09<br>Percent Steam Turbines: 63.82<br>Renewable Energy Potential/Area: 103.63\", \"Hawaii<br>RPS Goal Adjusted: 37%<br>Ideology: 90.79<br>Portion of Neighboring States: 0<br>Average Electric Price: 0.14<br>Percent Steam Turbines: 60.05<br>Renewable Energy Potential/Area: 446.73\", \"Idaho<br>RPS Goal Adjusted: 0%<br>Ideology: 14.09<br>Portion of Neighboring States: 0.67<br>Average Electric Price: 0.06<br>Percent Steam Turbines: 44.92<br>Renewable Energy Potential/Area: 102.26\", \"Illinois<br>RPS Goal Adjusted: 22%<br>Ideology: 34.53<br>Portion of Neighboring States: 0.4<br>Average Electric Price: 0.07<br>Percent Steam Turbines: 63.56<br>Renewable Energy Potential/Area: 166.67\", \"Indiana<br>RPS Goal Adjusted: 3%<br>Ideology: 10.38<br>Portion of Neighboring States: 0.5<br>Average Electric Price: 0.08<br>Percent Steam Turbines: 64.31<br>Renewable Energy Potential/Area: 159.93\", \"Iowa<br>RPS Goal Adjusted: 0%<br>Ideology: <br>Portion of Neighboring States: 0<br>Average Electric Price: <br>Percent Steam Turbines: 64.58<br>Renewable Energy Potential/Area: 166.89\", \"Kansas<br>RPS Goal Adjusted: 17%<br>Ideology: 45.19<br>Portion of Neighboring States: 0.75<br>Average Electric Price: 0.08<br>Percent Steam Turbines: 62.64<br>Renewable Energy Potential/Area: 323.54\", \"Kentucky<br>RPS Goal Adjusted: 0%<br>Ideology: 65.17<br>Portion of Neighboring States: 0.43<br>Average Electric Price: 0.06<br>Percent Steam Turbines: 64.71<br>Renewable Energy Potential/Area: 58.4\", \"Louisiana<br>RPS Goal Adjusted: 0%<br>Ideology: 43.86<br>Portion of Neighboring States: 0.33<br>Average Electric Price: 0.09<br>Percent Steam Turbines: 63.84<br>Renewable Energy Potential/Area: 113.57\", \"Maine<br>RPS Goal Adjusted: 40%<br>Ideology: 72.26<br>Portion of Neighboring States: 0<br>Average Electric Price: 0.1<br>Percent Steam Turbines: 55.82<br>Renewable Energy Potential/Area: 60.82\", \"Maryland<br>RPS Goal Adjusted: 12%<br>Ideology: 51.33<br>Portion of Neighboring States: 0.2<br>Average Electric Price: 0.07<br>Percent Steam Turbines: 65.59<br>Renewable Energy Potential/Area: 74.52\", \"Massachusetts<br>RPS Goal Adjusted: 7%<br>Ideology: 71.95<br>Portion of Neighboring States: 0<br>Average Electric Price: 0.1<br>Percent Steam Turbines: 78.16<br>Renewable Energy Potential/Area: 95.61\", \"Michigan<br>RPS Goal Adjusted: 9%<br>Ideology: 70.04<br>Portion of Neighboring States: 0.5<br>Average Electric Price: 0.09<br>Percent Steam Turbines: 62.75<br>Renewable Energy Potential/Area: 78.97\", \"Minnesota<br>RPS Goal Adjusted: 22%<br>Ideology: 50.01<br>Portion of Neighboring States: 0.25<br>Average Electric Price: 0.07<br>Percent Steam Turbines: 64.58<br>Renewable Energy Potential/Area: 146.78\", \"Mississippi<br>RPS Goal Adjusted: 0%<br>Ideology: 44.21<br>Portion of Neighboring States: 0<br>Average Electric Price: 0.09<br>Percent Steam Turbines: 63.82<br>Renewable Energy Potential/Area: 120.58\", \"Missouri<br>RPS Goal Adjusted: 10%<br>Ideology: 20.16<br>Portion of Neighboring States: 0.25<br>Average Electric Price: 0.07<br>Percent Steam Turbines: 63.39<br>Renewable Energy Potential/Area: 99.39\", \"Montana<br>RPS Goal Adjusted: 10%<br>Ideology: 65.12<br>Portion of Neighboring States: 0<br>Average Electric Price: 0.07<br>Percent Steam Turbines: 45.62<br>Renewable Energy Potential/Area: 96.3\", \"Nebraska<br>RPS Goal Adjusted: 0%<br>Ideology: 21.84<br>Portion of Neighboring States: 0.5<br>Average Electric Price: 0.07<br>Percent Steam Turbines: 58.81<br>Renewable Energy Potential/Area: 233.87\", \"Nevada<br>RPS Goal Adjusted: 10%<br>Ideology: 27.1<br>Portion of Neighboring States: 0.2<br>Average Electric Price: 0.08<br>Percent Steam Turbines: 43.28<br>Renewable Energy Potential/Area: 165.26\", \"New Hampshire<br>RPS Goal Adjusted: 25%<br>Ideology: 78.82<br>Portion of Neighboring States: 0.67<br>Average Electric Price: 0.14<br>Percent Steam Turbines: 55.82<br>Renewable Energy Potential/Area: 20.43\", \"New Jersey<br>RPS Goal Adjusted: 21%<br>Ideology: 29.16<br>Portion of Neighboring States: 0<br>Average Electric Price: 0.1<br>Percent Steam Turbines: 64.27<br>Renewable Energy Potential/Area: 111.13\", \"New Mexico<br>RPS Goal Adjusted: 14%<br>Ideology: 82.36<br>Portion of Neighboring States: 0.4<br>Average Electric Price: 0.07<br>Percent Steam Turbines: 45.47<br>Renewable Energy Potential/Area: 294.64\", \"New York<br>RPS Goal Adjusted: 27%<br>Ideology: 44.13<br>Portion of Neighboring States: 0.6<br>Average Electric Price: 0.13<br>Percent Steam Turbines: 54.3<br>Renewable Energy Potential/Area: 48.42\", \"North Carolina<br>RPS Goal Adjusted: 12%<br>Ideology: 77.03<br>Portion of Neighboring States: 0<br>Average Electric Price: 0.08<br>Percent Steam Turbines: 63.79<br>Renewable Energy Potential/Area: 112.25\", \"North Dakota<br>RPS Goal Adjusted: 10%<br>Ideology: 33.06<br>Portion of Neighboring States: 0.67<br>Average Electric Price: 0.06<br>Percent Steam Turbines: 63.22<br>Renewable Energy Potential/Area: 178.83\", \"Ohio<br>RPS Goal Adjusted: 11%<br>Ideology: 57.56<br>Portion of Neighboring States: 0.2<br>Average Electric Price: 0.08<br>Percent Steam Turbines: 67.88<br>Renewable Energy Potential/Area: 101.61\", \"Oklahoma<br>RPS Goal Adjusted: 15%<br>Ideology: 42.26<br>Portion of Neighboring States: 0.83<br>Average Electric Price: 0.08<br>Percent Steam Turbines: 62.86<br>Renewable Energy Potential/Area: 240.07\", \"Oregon<br>RPS Goal Adjusted: 21%<br>Ideology: 81.14<br>Portion of Neighboring States: 0.75<br>Average Electric Price: 0.07<br>Percent Steam Turbines: 45.47<br>Renewable Energy Potential/Area: 87.24\", \"Pennsylvania<br>RPS Goal Adjusted: 4%<br>Ideology: 58.13<br>Portion of Neighboring States: 0.17<br>Average Electric Price: 0.08<br>Percent Steam Turbines: 66.72<br>Renewable Energy Potential/Area: 21.94\", \"Rhode Island<br>RPS Goal Adjusted: 12%<br>Ideology: 73.04<br>Portion of Neighboring States: 1<br>Average Electric Price: 0.11<br>Percent Steam Turbines: 56.23<br>Renewable Energy Potential/Area: 76.73\", \"South Carolina<br>RPS Goal Adjusted: 0%<br>Ideology: 10.22<br>Portion of Neighboring States: 0.5<br>Average Electric Price: 0.08<br>Percent Steam Turbines: 63.82<br>Renewable Energy Potential/Area: 116.23\", \"South Dakota<br>RPS Goal Adjusted: 0%<br>Ideology: 23.36<br>Portion of Neighboring States: 0.67<br>Average Electric Price: 0.07<br>Percent Steam Turbines: 59.45<br>Renewable Energy Potential/Area: 200.71\", \"Tennessee<br>RPS Goal Adjusted: 0%<br>Ideology: 64.35<br>Portion of Neighboring States: 0.38<br>Average Electric Price: 0.08<br>Percent Steam Turbines: 63.82<br>Renewable Energy Potential/Area: 64.99\", \"Texas<br>RPS Goal Adjusted: 2%<br>Ideology: 26.7<br>Portion of Neighboring States: 0<br>Average Electric Price: 0.06<br>Percent Steam Turbines: 89.23<br>Renewable Energy Potential/Area: 267.54\", \"Utah<br>RPS Goal Adjusted: 20%<br>Ideology: 16.05<br>Portion of Neighboring States: 0.67<br>Average Electric Price: 0.06<br>Percent Steam Turbines: 44.92<br>Renewable Energy Potential/Area: 132.84\", \"Vermont<br>RPS Goal Adjusted: 16%<br>Ideology: 73.51<br>Portion of Neighboring States: 1<br>Average Electric Price: 0.12<br>Percent Steam Turbines: 55.82<br>Renewable Energy Potential/Area: 10.74\", \"Virginia<br>RPS Goal Adjusted: 9%<br>Ideology: 52.27<br>Portion of Neighboring States: 0.2<br>Average Electric Price: 0.07<br>Percent Steam Turbines: 64.83<br>Renewable Energy Potential/Area: 60.85\", \"Washington<br>RPS Goal Adjusted: 13%<br>Ideology: 77.75<br>Portion of Neighboring States: 0<br>Average Electric Price: 0.06<br>Percent Steam Turbines: 45.53<br>Renewable Energy Potential/Area: 43.32\", \"West Virginia<br>RPS Goal Adjusted: 0%<br>Ideology: 82.62<br>Portion of Neighboring States: 0.8<br>Average Electric Price: 0.07<br>Percent Steam Turbines: 65.65<br>Renewable Energy Potential/Area: 13.76\", \"Wisconsin<br>RPS Goal Adjusted: 3%<br>Ideology: 23.07<br>Portion of Neighboring States: 0.5<br>Average Electric Price: 0.05<br>Percent Steam Turbines: 64.54<br>Renewable Energy Potential/Area: 96.9\", \"Wyoming<br>RPS Goal Adjusted: 0%<br>Ideology: 51.83<br>Portion of Neighboring States: 0.33<br>Average Electric Price: 0.06<br>Percent Steam Turbines: 44.92<br>Renewable Energy Potential/Area: 141.82\"], \"marker\": {\"line\": {\"color\": \"rgb(255,255,255)\", \"width\": 2}}, \"colorbar\": {\"title\": \"Final RPS Goal Adjusted\"}}], {\"title\": \"Adjusted RPS Goals by State\", \"geo\": {\"scope\": \"usa\", \"showlakes\": true, \"lakecolor\": \"rgb(85,173,240)\"}}, {\"showLink\": true, \"linkText\": \"Export to plot.ly\"})});</script>"
      ],
      "text/vnd.plotly.v1+html": [
       "<div id=\"3bd0d81a-a7cf-43b4-9ce0-34fab35d7d8d\" style=\"height: 525px; width: 100%;\" class=\"plotly-graph-div\"></div><script type=\"text/javascript\">require([\"plotly\"], function(Plotly) { window.PLOTLYENV=window.PLOTLYENV || {};window.PLOTLYENV.BASE_URL=\"https://plot.ly\";Plotly.newPlot(\"3bd0d81a-a7cf-43b4-9ce0-34fab35d7d8d\", [{\"type\": \"choropleth\", \"colorscale\": \"Bluered\", \"locations\": [\"AL\", \"AK\", \"AZ\", \"AR\", \"CA\", \"CO\", \"CT\", \"DE\", \"FL\", \"GA\", \"HI\", \"ID\", \"IL\", \"IN\", \"IA\", \"KS\", \"KY\", \"LA\", \"ME\", \"MD\", \"MA\", \"MI\", \"MN\", \"MS\", \"MO\", \"MT\", \"NE\", \"NV\", \"NH\", \"NJ\", \"NM\", \"NY\", \"NC\", \"ND\", \"OH\", \"OK\", \"OR\", \"PA\", \"RI\", \"SC\", \"SD\", \"TN\", \"TX\", \"UT\", \"VT\", \"VA\", \"WA\", \"WV\", \"WI\", \"WY\"], \"locationmode\": \"USA-states\", \"z\": [0.0, 0.0, 0.0, 0.0, 0.34, 0.26, 0.12, 0.18, 0.0, 0.0, 0.37, 0.0, 0.22, 0.03, 0.0, 0.17, 0.0, 0.0, 0.4, 0.12, 0.07, 0.09, 0.22, 0.0, 0.1, 0.1, 0.0, 0.1, 0.25, 0.21, 0.14, 0.27, 0.12, 0.1, 0.11, 0.15, 0.21, 0.04, 0.12, 0.0, 0.0, 0.0, 0.02, 0.2, 0.16, 0.09, 0.13, 0.0, 0.03, 0.0], \"text\": [\"Alabama<br>RPS Goal Adjusted: 0%<br>Ideology: 45.62<br>Portion of Neighboring States: 0<br>Average Electric Price: 0.09<br>Percent Steam Turbines: 63.82<br>Renewable Energy Potential/Area: 82.23\", \"Alaska<br>RPS Goal Adjusted: 0%<br>Ideology: 39.03<br>Portion of Neighboring States: 0<br>Average Electric Price: 0.15<br>Percent Steam Turbines: 9.37<br>Renewable Energy Potential/Area: 14.77\", \"Arizona<br>RPS Goal Adjusted: 0%<br>Ideology: 11.95<br>Portion of Neighboring States: 0<br>Average Electric Price: 0.07<br>Percent Steam Turbines: 45.53<br>Renewable Energy Potential/Area: 226.59\", \"Arkansas<br>RPS Goal Adjusted: 0%<br>Ideology: 74.58<br>Portion of Neighboring States: 0.33<br>Average Electric Price: 0.08<br>Percent Steam Turbines: 63.83<br>Renewable Energy Potential/Area: 107.12\", \"California<br>RPS Goal Adjusted: 34%<br>Ideology: 89.25<br>Portion of Neighboring States: 0.67<br>Average Electric Price: 0.12<br>Percent Steam Turbines: 44.43<br>Renewable Energy Potential/Area: 134.29\", \"Colorado<br>RPS Goal Adjusted: 26%<br>Ideology: 16.71<br>Portion of Neighboring States: 0.29<br>Average Electric Price: 0.07<br>Percent Steam Turbines: 45.53<br>Renewable Energy Potential/Area: 209.61\", \"Connecticut<br>RPS Goal Adjusted: 12%<br>Ideology: 54.95<br>Portion of Neighboring States: 0.33<br>Average Electric Price: 0.1<br>Percent Steam Turbines: 55.95<br>Renewable Energy Potential/Area: 21.37\", \"Delaware<br>RPS Goal Adjusted: 18%<br>Ideology: 65.36<br>Portion of Neighboring States: 0.67<br>Average Electric Price: 0.08<br>Percent Steam Turbines: 64.27<br>Renewable Energy Potential/Area: 150.18\", \"Florida<br>RPS Goal Adjusted: 0%<br>Ideology: 15.95<br>Portion of Neighboring States: 0<br>Average Electric Price: 0.11<br>Percent Steam Turbines: 57.04<br>Renewable Energy Potential/Area: 86.64\", \"Georgia<br>RPS Goal Adjusted: 0%<br>Ideology: 7.43<br>Portion of Neighboring States: 0.2<br>Average Electric Price: 0.09<br>Percent Steam Turbines: 63.82<br>Renewable Energy Potential/Area: 103.63\", \"Hawaii<br>RPS Goal Adjusted: 37%<br>Ideology: 90.79<br>Portion of Neighboring States: 0<br>Average Electric Price: 0.14<br>Percent Steam Turbines: 60.05<br>Renewable Energy Potential/Area: 446.73\", \"Idaho<br>RPS Goal Adjusted: 0%<br>Ideology: 14.09<br>Portion of Neighboring States: 0.67<br>Average Electric Price: 0.06<br>Percent Steam Turbines: 44.92<br>Renewable Energy Potential/Area: 102.26\", \"Illinois<br>RPS Goal Adjusted: 22%<br>Ideology: 34.53<br>Portion of Neighboring States: 0.4<br>Average Electric Price: 0.07<br>Percent Steam Turbines: 63.56<br>Renewable Energy Potential/Area: 166.67\", \"Indiana<br>RPS Goal Adjusted: 3%<br>Ideology: 10.38<br>Portion of Neighboring States: 0.5<br>Average Electric Price: 0.08<br>Percent Steam Turbines: 64.31<br>Renewable Energy Potential/Area: 159.93\", \"Iowa<br>RPS Goal Adjusted: 0%<br>Ideology: <br>Portion of Neighboring States: 0<br>Average Electric Price: <br>Percent Steam Turbines: 64.58<br>Renewable Energy Potential/Area: 166.89\", \"Kansas<br>RPS Goal Adjusted: 17%<br>Ideology: 45.19<br>Portion of Neighboring States: 0.75<br>Average Electric Price: 0.08<br>Percent Steam Turbines: 62.64<br>Renewable Energy Potential/Area: 323.54\", \"Kentucky<br>RPS Goal Adjusted: 0%<br>Ideology: 65.17<br>Portion of Neighboring States: 0.43<br>Average Electric Price: 0.06<br>Percent Steam Turbines: 64.71<br>Renewable Energy Potential/Area: 58.4\", \"Louisiana<br>RPS Goal Adjusted: 0%<br>Ideology: 43.86<br>Portion of Neighboring States: 0.33<br>Average Electric Price: 0.09<br>Percent Steam Turbines: 63.84<br>Renewable Energy Potential/Area: 113.57\", \"Maine<br>RPS Goal Adjusted: 40%<br>Ideology: 72.26<br>Portion of Neighboring States: 0<br>Average Electric Price: 0.1<br>Percent Steam Turbines: 55.82<br>Renewable Energy Potential/Area: 60.82\", \"Maryland<br>RPS Goal Adjusted: 12%<br>Ideology: 51.33<br>Portion of Neighboring States: 0.2<br>Average Electric Price: 0.07<br>Percent Steam Turbines: 65.59<br>Renewable Energy Potential/Area: 74.52\", \"Massachusetts<br>RPS Goal Adjusted: 7%<br>Ideology: 71.95<br>Portion of Neighboring States: 0<br>Average Electric Price: 0.1<br>Percent Steam Turbines: 78.16<br>Renewable Energy Potential/Area: 95.61\", \"Michigan<br>RPS Goal Adjusted: 9%<br>Ideology: 70.04<br>Portion of Neighboring States: 0.5<br>Average Electric Price: 0.09<br>Percent Steam Turbines: 62.75<br>Renewable Energy Potential/Area: 78.97\", \"Minnesota<br>RPS Goal Adjusted: 22%<br>Ideology: 50.01<br>Portion of Neighboring States: 0.25<br>Average Electric Price: 0.07<br>Percent Steam Turbines: 64.58<br>Renewable Energy Potential/Area: 146.78\", \"Mississippi<br>RPS Goal Adjusted: 0%<br>Ideology: 44.21<br>Portion of Neighboring States: 0<br>Average Electric Price: 0.09<br>Percent Steam Turbines: 63.82<br>Renewable Energy Potential/Area: 120.58\", \"Missouri<br>RPS Goal Adjusted: 10%<br>Ideology: 20.16<br>Portion of Neighboring States: 0.25<br>Average Electric Price: 0.07<br>Percent Steam Turbines: 63.39<br>Renewable Energy Potential/Area: 99.39\", \"Montana<br>RPS Goal Adjusted: 10%<br>Ideology: 65.12<br>Portion of Neighboring States: 0<br>Average Electric Price: 0.07<br>Percent Steam Turbines: 45.62<br>Renewable Energy Potential/Area: 96.3\", \"Nebraska<br>RPS Goal Adjusted: 0%<br>Ideology: 21.84<br>Portion of Neighboring States: 0.5<br>Average Electric Price: 0.07<br>Percent Steam Turbines: 58.81<br>Renewable Energy Potential/Area: 233.87\", \"Nevada<br>RPS Goal Adjusted: 10%<br>Ideology: 27.1<br>Portion of Neighboring States: 0.2<br>Average Electric Price: 0.08<br>Percent Steam Turbines: 43.28<br>Renewable Energy Potential/Area: 165.26\", \"New Hampshire<br>RPS Goal Adjusted: 25%<br>Ideology: 78.82<br>Portion of Neighboring States: 0.67<br>Average Electric Price: 0.14<br>Percent Steam Turbines: 55.82<br>Renewable Energy Potential/Area: 20.43\", \"New Jersey<br>RPS Goal Adjusted: 21%<br>Ideology: 29.16<br>Portion of Neighboring States: 0<br>Average Electric Price: 0.1<br>Percent Steam Turbines: 64.27<br>Renewable Energy Potential/Area: 111.13\", \"New Mexico<br>RPS Goal Adjusted: 14%<br>Ideology: 82.36<br>Portion of Neighboring States: 0.4<br>Average Electric Price: 0.07<br>Percent Steam Turbines: 45.47<br>Renewable Energy Potential/Area: 294.64\", \"New York<br>RPS Goal Adjusted: 27%<br>Ideology: 44.13<br>Portion of Neighboring States: 0.6<br>Average Electric Price: 0.13<br>Percent Steam Turbines: 54.3<br>Renewable Energy Potential/Area: 48.42\", \"North Carolina<br>RPS Goal Adjusted: 12%<br>Ideology: 77.03<br>Portion of Neighboring States: 0<br>Average Electric Price: 0.08<br>Percent Steam Turbines: 63.79<br>Renewable Energy Potential/Area: 112.25\", \"North Dakota<br>RPS Goal Adjusted: 10%<br>Ideology: 33.06<br>Portion of Neighboring States: 0.67<br>Average Electric Price: 0.06<br>Percent Steam Turbines: 63.22<br>Renewable Energy Potential/Area: 178.83\", \"Ohio<br>RPS Goal Adjusted: 11%<br>Ideology: 57.56<br>Portion of Neighboring States: 0.2<br>Average Electric Price: 0.08<br>Percent Steam Turbines: 67.88<br>Renewable Energy Potential/Area: 101.61\", \"Oklahoma<br>RPS Goal Adjusted: 15%<br>Ideology: 42.26<br>Portion of Neighboring States: 0.83<br>Average Electric Price: 0.08<br>Percent Steam Turbines: 62.86<br>Renewable Energy Potential/Area: 240.07\", \"Oregon<br>RPS Goal Adjusted: 21%<br>Ideology: 81.14<br>Portion of Neighboring States: 0.75<br>Average Electric Price: 0.07<br>Percent Steam Turbines: 45.47<br>Renewable Energy Potential/Area: 87.24\", \"Pennsylvania<br>RPS Goal Adjusted: 4%<br>Ideology: 58.13<br>Portion of Neighboring States: 0.17<br>Average Electric Price: 0.08<br>Percent Steam Turbines: 66.72<br>Renewable Energy Potential/Area: 21.94\", \"Rhode Island<br>RPS Goal Adjusted: 12%<br>Ideology: 73.04<br>Portion of Neighboring States: 1<br>Average Electric Price: 0.11<br>Percent Steam Turbines: 56.23<br>Renewable Energy Potential/Area: 76.73\", \"South Carolina<br>RPS Goal Adjusted: 0%<br>Ideology: 10.22<br>Portion of Neighboring States: 0.5<br>Average Electric Price: 0.08<br>Percent Steam Turbines: 63.82<br>Renewable Energy Potential/Area: 116.23\", \"South Dakota<br>RPS Goal Adjusted: 0%<br>Ideology: 23.36<br>Portion of Neighboring States: 0.67<br>Average Electric Price: 0.07<br>Percent Steam Turbines: 59.45<br>Renewable Energy Potential/Area: 200.71\", \"Tennessee<br>RPS Goal Adjusted: 0%<br>Ideology: 64.35<br>Portion of Neighboring States: 0.38<br>Average Electric Price: 0.08<br>Percent Steam Turbines: 63.82<br>Renewable Energy Potential/Area: 64.99\", \"Texas<br>RPS Goal Adjusted: 2%<br>Ideology: 26.7<br>Portion of Neighboring States: 0<br>Average Electric Price: 0.06<br>Percent Steam Turbines: 89.23<br>Renewable Energy Potential/Area: 267.54\", \"Utah<br>RPS Goal Adjusted: 20%<br>Ideology: 16.05<br>Portion of Neighboring States: 0.67<br>Average Electric Price: 0.06<br>Percent Steam Turbines: 44.92<br>Renewable Energy Potential/Area: 132.84\", \"Vermont<br>RPS Goal Adjusted: 16%<br>Ideology: 73.51<br>Portion of Neighboring States: 1<br>Average Electric Price: 0.12<br>Percent Steam Turbines: 55.82<br>Renewable Energy Potential/Area: 10.74\", \"Virginia<br>RPS Goal Adjusted: 9%<br>Ideology: 52.27<br>Portion of Neighboring States: 0.2<br>Average Electric Price: 0.07<br>Percent Steam Turbines: 64.83<br>Renewable Energy Potential/Area: 60.85\", \"Washington<br>RPS Goal Adjusted: 13%<br>Ideology: 77.75<br>Portion of Neighboring States: 0<br>Average Electric Price: 0.06<br>Percent Steam Turbines: 45.53<br>Renewable Energy Potential/Area: 43.32\", \"West Virginia<br>RPS Goal Adjusted: 0%<br>Ideology: 82.62<br>Portion of Neighboring States: 0.8<br>Average Electric Price: 0.07<br>Percent Steam Turbines: 65.65<br>Renewable Energy Potential/Area: 13.76\", \"Wisconsin<br>RPS Goal Adjusted: 3%<br>Ideology: 23.07<br>Portion of Neighboring States: 0.5<br>Average Electric Price: 0.05<br>Percent Steam Turbines: 64.54<br>Renewable Energy Potential/Area: 96.9\", \"Wyoming<br>RPS Goal Adjusted: 0%<br>Ideology: 51.83<br>Portion of Neighboring States: 0.33<br>Average Electric Price: 0.06<br>Percent Steam Turbines: 44.92<br>Renewable Energy Potential/Area: 141.82\"], \"marker\": {\"line\": {\"color\": \"rgb(255,255,255)\", \"width\": 2}}, \"colorbar\": {\"title\": \"Final RPS Goal Adjusted\"}}], {\"title\": \"Adjusted RPS Goals by State\", \"geo\": {\"scope\": \"usa\", \"showlakes\": true, \"lakecolor\": \"rgb(85,173,240)\"}}, {\"showLink\": true, \"linkText\": \"Export to plot.ly\"})});</script>"
      ]
     },
     "metadata": {},
     "output_type": "display_data"
    }
   ],
   "source": [
    "iplot(choromap_RPSGOAL)"
   ]
  },
  {
   "cell_type": "markdown",
   "metadata": {},
   "source": [
    "## Ta-dah!"
   ]
  },
  {
   "cell_type": "code",
   "execution_count": null,
   "metadata": {},
   "outputs": [],
   "source": []
  }
 ],
 "metadata": {
  "kernelspec": {
   "display_name": "Python 3",
   "language": "python",
   "name": "python3"
  },
  "language_info": {
   "codemirror_mode": {
    "name": "ipython",
    "version": 3
   },
   "file_extension": ".py",
   "mimetype": "text/x-python",
   "name": "python",
   "nbconvert_exporter": "python",
   "pygments_lexer": "ipython3",
   "version": "3.6.4"
  }
 },
 "nbformat": 4,
 "nbformat_minor": 2
}
